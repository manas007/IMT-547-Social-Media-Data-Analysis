{
 "cells": [
  {
   "cell_type": "markdown",
   "metadata": {},
   "source": [
    "# IMT 547 SP19 - Python Basics Exercise\n",
    "### Instructor: Li Zeng (lizeng@uw.edu) - Due: April 21, Sunday at 11:59 pm\n",
    "### Name: Manas Tripathi\n",
    "### Collaborators:"
   ]
  },
  {
   "cell_type": "markdown",
   "metadata": {},
   "source": [
    "### Instructions\n",
    "\n",
    "0. Please complete the lab tutorial which accounts for two points before you work on this exerise.\n",
    "\n",
    "1. Please write down your name and your collaborators (if any).\n",
    "\n",
    "2. In this exercise you will get hands-on experiences in importing data into structured format, summarizing data using descriptive statistics (e,g, sum, average, etc.), manipulating data including indexing, slicing and grouping, as well as visualizing data using a foundamental (but believe me also powerful) matplotlib package.\n",
    "\n",
    "3. The data you will be working with was collected from an activity-tracking platform: Strava. It is a collection of physical activities that Strava users recorded and posted on this platform. For simplicity, this exercise focuses on several selected fields. You can find the data description by reading the Strava API doc, following this link: https://developers.strava.com/docs/reference/#api-models-DetailedActivity\n",
    "\n",
    "4. For each question, please type your codes in a *Code* cell and your written response which summarizes your results in a *Markdown* cell."
   ]
  },
  {
   "cell_type": "code",
   "execution_count": 2,
   "metadata": {},
   "outputs": [],
   "source": [
    "# import packages\n",
    "import numpy as np\n",
    "import pandas as pd\n",
    "import matplotlib.pyplot as plt\n",
    "%matplotlib inline\n",
    "\n",
    "# you may import other packages if necessary"
   ]
  },
  {
   "cell_type": "markdown",
   "metadata": {},
   "source": [
    "### 1. Data Import and Data Summary"
   ]
  },
  {
   "cell_type": "markdown",
   "metadata": {},
   "source": [
    "**(a) Load the data lab_strava_activity.csv into a pandas dataframe.**"
   ]
  },
  {
   "cell_type": "code",
   "execution_count": 5,
   "metadata": {},
   "outputs": [],
   "source": [
    "# Your codes here\n",
    "data = pd.read_csv('lab_strava_activity.csv')"
   ]
  },
  {
   "cell_type": "markdown",
   "metadata": {},
   "source": [
    "**(b) It's time to get to know your data! Report the number of rows and columns in the dataset.**"
   ]
  },
  {
   "cell_type": "code",
   "execution_count": 6,
   "metadata": {},
   "outputs": [
    {
     "data": {
      "text/plain": [
       "(8093, 8)"
      ]
     },
     "execution_count": 6,
     "metadata": {},
     "output_type": "execute_result"
    }
   ],
   "source": [
    "# Your codes here\n",
    "data.shape"
   ]
  },
  {
   "cell_type": "markdown",
   "metadata": {},
   "source": [
    "**Answer : There are 8093 rows and 8 columns in the lab_strava_activity dataset.**\n"
   ]
  },
  {
   "cell_type": "markdown",
   "metadata": {},
   "source": [
    "**(c) What variables does this dataset have? Report the variable names along with the data type of each variable.**"
   ]
  },
  {
   "cell_type": "code",
   "execution_count": 7,
   "metadata": {},
   "outputs": [
    {
     "name": "stdout",
     "output_type": "stream",
     "text": [
      "name                  object\n",
      "athlete.sex           object\n",
      "athlete.country       object\n",
      "start_date_local      object\n",
      "distance             float64\n",
      "achievement_count      int64\n",
      "type                  object\n",
      "kudos_count            int64\n",
      "dtype: object\n"
     ]
    }
   ],
   "source": [
    "# Your codes here\n",
    "print(data.dtypes)"
   ]
  },
  {
   "cell_type": "markdown",
   "metadata": {},
   "source": [
    "**Answer : The 8 variables and their data type are as follows:**\n",
    "  \n",
    "| Variable Name | Datatype | \n",
    "| --- | --- | \n",
    "| name | object |\n",
    "| athlete.sex | object |\n",
    "| athlete.country | object |\n",
    "| start_date_local | object |\n",
    "| distance | float64 |\n",
    "| achievement_count  | int64 |\n",
    "| type | object |\n",
    "| kudos_count  | int64 |\n"
   ]
  },
  {
   "cell_type": "markdown",
   "metadata": {},
   "source": [
    "### 2. Data Manipulation - Explore Achievement Count by Country"
   ]
  },
  {
   "cell_type": "markdown",
   "metadata": {},
   "source": [
    "**(a) What are the top 3 countries most Strava users are from in this dataset?**"
   ]
  },
  {
   "cell_type": "code",
   "execution_count": 43,
   "metadata": {},
   "outputs": [
    {
     "data": {
      "text/plain": [
       "United States     2424\n",
       "United Kingdom    1770\n",
       "Australia          632\n",
       "Name: athlete.country, dtype: int64"
      ]
     },
     "execution_count": 43,
     "metadata": {},
     "output_type": "execute_result"
    }
   ],
   "source": [
    "# Your codes here\n",
    "#data.groupby('athlete.country').count().sort_values('name', ascending=False).index.values[0:4]\n",
    "data['athlete.country'].value_counts()[0:3]"
   ]
  },
  {
   "cell_type": "markdown",
   "metadata": {},
   "source": [
    "**Answer : The top three countries are : United States, United Kingdom, Australia.**"
   ]
  },
  {
   "cell_type": "markdown",
   "metadata": {},
   "source": [
    "**(b) What is the total achievement count of athletes from the United States?**"
   ]
  },
  {
   "cell_type": "code",
   "execution_count": 102,
   "metadata": {},
   "outputs": [
    {
     "data": {
      "text/plain": [
       "7257"
      ]
     },
     "execution_count": 102,
     "metadata": {},
     "output_type": "execute_result"
    }
   ],
   "source": [
    "# Your codes here\n",
    "allUnitedAthletes = data[data['athlete.country'] == 'United States']\n",
    "allUnitedAthletes.achievement_count.sum()"
   ]
  },
  {
   "cell_type": "markdown",
   "metadata": {},
   "source": [
    "**Answer: Total achievement count of athletes from United States is 7257.**\n"
   ]
  },
  {
   "cell_type": "markdown",
   "metadata": {},
   "source": [
    "**(c) What is the average achievement count of male athletes from the United Kingdom? How is it compared to the counterpart females?**"
   ]
  },
  {
   "cell_type": "code",
   "execution_count": 10,
   "metadata": {},
   "outputs": [
    {
     "name": "stdout",
     "output_type": "stream",
     "text": [
      "Male average achievement count 5.997745208568207\n",
      "Female average achievement count 4.01641266119578\n",
      "Male average achievement count is  49.3309008438027 % better than the Female average achievement count\n"
     ]
    }
   ],
   "source": [
    "# Your codes here\n",
    "data_male = data[data[\"athlete.sex\"] == \"M\"]\n",
    "data_female = data[data[\"athlete.sex\"] == \"F\"]\n",
    "data_male_from_UK = data_male[data_male[\"athlete.country\"] == \"United Kingdom\"]\n",
    "data_female_from_UK = data_female[data_female[\"athlete.country\"] == \"United Kingdom\"]\n",
    "male_UK_avg_ach_cnt = data_male_from_UK.achievement_count.mean()\n",
    "female_UK_avg_ach_cnt = data_female_from_UK.achievement_count.mean()\n",
    "print('Male average achievement count' , male_UK_avg_ach_cnt)\n",
    "print('Female average achievement count' , female_UK_avg_ach_cnt)\n",
    "print('Male average achievement count is ' , ((male_UK_avg_ach_cnt - female_UK_avg_ach_cnt)/female_UK_avg_ach_cnt) * 100 , '% better than the Female average achievement count') \n"
   ]
  },
  {
   "cell_type": "markdown",
   "metadata": {},
   "source": [
    "**Answer: The average achievement count of male athletes from the UK is 5.99. It is 49% better than the average achievement count of the female counterpart.**"
   ]
  },
  {
   "cell_type": "markdown",
   "metadata": {},
   "source": [
    "### 3. Data Manipulation - Explore Activity Type"
   ]
  },
  {
   "cell_type": "markdown",
   "metadata": {},
   "source": [
    "**(a) How many different kinds of activities are there in this data set? Report the name and the total number of completed activities for each type.**"
   ]
  },
  {
   "cell_type": "code",
   "execution_count": 49,
   "metadata": {},
   "outputs": [
    {
     "data": {
      "text/html": [
       "<div>\n",
       "<style scoped>\n",
       "    .dataframe tbody tr th:only-of-type {\n",
       "        vertical-align: middle;\n",
       "    }\n",
       "\n",
       "    .dataframe tbody tr th {\n",
       "        vertical-align: top;\n",
       "    }\n",
       "\n",
       "    .dataframe thead th {\n",
       "        text-align: right;\n",
       "    }\n",
       "</style>\n",
       "<table border=\"1\" class=\"dataframe\">\n",
       "  <thead>\n",
       "    <tr style=\"text-align: right;\">\n",
       "      <th></th>\n",
       "      <th>Activity Type</th>\n",
       "      <th>Count</th>\n",
       "    </tr>\n",
       "  </thead>\n",
       "  <tbody>\n",
       "    <tr>\n",
       "      <th>0</th>\n",
       "      <td>Ride</td>\n",
       "      <td>4512</td>\n",
       "    </tr>\n",
       "    <tr>\n",
       "      <th>1</th>\n",
       "      <td>Run</td>\n",
       "      <td>3001</td>\n",
       "    </tr>\n",
       "    <tr>\n",
       "      <th>2</th>\n",
       "      <td>Walk</td>\n",
       "      <td>194</td>\n",
       "    </tr>\n",
       "    <tr>\n",
       "      <th>3</th>\n",
       "      <td>Swim</td>\n",
       "      <td>178</td>\n",
       "    </tr>\n",
       "    <tr>\n",
       "      <th>4</th>\n",
       "      <td>Workout</td>\n",
       "      <td>66</td>\n",
       "    </tr>\n",
       "    <tr>\n",
       "      <th>5</th>\n",
       "      <td>Hike</td>\n",
       "      <td>37</td>\n",
       "    </tr>\n",
       "    <tr>\n",
       "      <th>6</th>\n",
       "      <td>VirtualRide</td>\n",
       "      <td>26</td>\n",
       "    </tr>\n",
       "    <tr>\n",
       "      <th>7</th>\n",
       "      <td>NordicSki</td>\n",
       "      <td>20</td>\n",
       "    </tr>\n",
       "    <tr>\n",
       "      <th>8</th>\n",
       "      <td>WeightTraining</td>\n",
       "      <td>14</td>\n",
       "    </tr>\n",
       "    <tr>\n",
       "      <th>9</th>\n",
       "      <td>Yoga</td>\n",
       "      <td>9</td>\n",
       "    </tr>\n",
       "    <tr>\n",
       "      <th>10</th>\n",
       "      <td>AlpineSki</td>\n",
       "      <td>7</td>\n",
       "    </tr>\n",
       "    <tr>\n",
       "      <th>11</th>\n",
       "      <td>Crossfit</td>\n",
       "      <td>5</td>\n",
       "    </tr>\n",
       "    <tr>\n",
       "      <th>12</th>\n",
       "      <td>IceSkate</td>\n",
       "      <td>4</td>\n",
       "    </tr>\n",
       "    <tr>\n",
       "      <th>13</th>\n",
       "      <td>BackcountrySki</td>\n",
       "      <td>4</td>\n",
       "    </tr>\n",
       "    <tr>\n",
       "      <th>14</th>\n",
       "      <td>Rowing</td>\n",
       "      <td>3</td>\n",
       "    </tr>\n",
       "    <tr>\n",
       "      <th>15</th>\n",
       "      <td>Kayaking</td>\n",
       "      <td>3</td>\n",
       "    </tr>\n",
       "    <tr>\n",
       "      <th>16</th>\n",
       "      <td>Snowboard</td>\n",
       "      <td>3</td>\n",
       "    </tr>\n",
       "    <tr>\n",
       "      <th>17</th>\n",
       "      <td>Elliptical</td>\n",
       "      <td>3</td>\n",
       "    </tr>\n",
       "    <tr>\n",
       "      <th>18</th>\n",
       "      <td>EBikeRide</td>\n",
       "      <td>1</td>\n",
       "    </tr>\n",
       "    <tr>\n",
       "      <th>19</th>\n",
       "      <td>Snowshoe</td>\n",
       "      <td>1</td>\n",
       "    </tr>\n",
       "    <tr>\n",
       "      <th>20</th>\n",
       "      <td>StandUpPaddling</td>\n",
       "      <td>1</td>\n",
       "    </tr>\n",
       "    <tr>\n",
       "      <th>21</th>\n",
       "      <td>RockClimbing</td>\n",
       "      <td>1</td>\n",
       "    </tr>\n",
       "  </tbody>\n",
       "</table>\n",
       "</div>"
      ],
      "text/plain": [
       "      Activity Type  Count\n",
       "0              Ride   4512\n",
       "1               Run   3001\n",
       "2              Walk    194\n",
       "3              Swim    178\n",
       "4           Workout     66\n",
       "5              Hike     37\n",
       "6       VirtualRide     26\n",
       "7         NordicSki     20\n",
       "8    WeightTraining     14\n",
       "9              Yoga      9\n",
       "10        AlpineSki      7\n",
       "11         Crossfit      5\n",
       "12         IceSkate      4\n",
       "13   BackcountrySki      4\n",
       "14           Rowing      3\n",
       "15         Kayaking      3\n",
       "16        Snowboard      3\n",
       "17       Elliptical      3\n",
       "18        EBikeRide      1\n",
       "19         Snowshoe      1\n",
       "20  StandUpPaddling      1\n",
       "21     RockClimbing      1"
      ]
     },
     "execution_count": 49,
     "metadata": {},
     "output_type": "execute_result"
    }
   ],
   "source": [
    "# Your codes here\n",
    "activity_count = data['type'].value_counts()\n",
    "pd.DataFrame({'Activity Type':activity_count.index, 'Count':activity_count.values})"
   ]
  },
  {
   "cell_type": "markdown",
   "metadata": {},
   "source": [
    "**Answer :\n",
    "There are 21 different types of activities. They are as follows : \n",
    "Ride               4512\n",
    "Run                3001\n",
    "Walk                194\n",
    "Swim                178\n",
    "Workout              66\n",
    "Hike                 37\n",
    "VirtualRide          26\n",
    "NordicSki            20\n",
    "WeightTraining       14\n",
    "Yoga                  9\n",
    "AlpineSki             7\n",
    "Crossfit              5\n",
    "BackcountrySki        4\n",
    "IceSkate              4\n",
    "Elliptical            3\n",
    "Rowing                3\n",
    "Snowboard             3\n",
    "Kayaking              3\n",
    "RockClimbing          1\n",
    "EBikeRide             1\n",
    "StandUpPaddling       1\n",
    "Snowshoe              1**\n"
   ]
  },
  {
   "cell_type": "markdown",
   "metadata": {},
   "source": [
    "**(b) Which type of activity do most male and female users participate in?**"
   ]
  },
  {
   "cell_type": "code",
   "execution_count": 12,
   "metadata": {},
   "outputs": [
    {
     "name": "stdout",
     "output_type": "stream",
     "text": [
      "Ride    2818\n",
      "Name: type, dtype: int64\n",
      "Run    1886\n",
      "Name: type, dtype: int64\n"
     ]
    }
   ],
   "source": [
    "# Your codes here\n",
    "male_activity = data[data[\"athlete.sex\"] == \"M\"].type.value_counts()\n",
    "female_activity = data[data[\"athlete.sex\"] == \"F\"].type.value_counts()\n",
    "print(male_activity.iloc[0:1])\n",
    "print(female_activity.iloc[0:1])"
   ]
  },
  {
   "cell_type": "markdown",
   "metadata": {},
   "source": [
    "\n",
    "**Answer: Most Male participate in the activity Ride while the women participate in the activity Run.**"
   ]
  },
  {
   "cell_type": "markdown",
   "metadata": {},
   "source": [
    "**(c) What is the average distance covered by users for each type of activity?**"
   ]
  },
  {
   "cell_type": "code",
   "execution_count": 50,
   "metadata": {},
   "outputs": [
    {
     "data": {
      "text/html": [
       "<div>\n",
       "<style scoped>\n",
       "    .dataframe tbody tr th:only-of-type {\n",
       "        vertical-align: middle;\n",
       "    }\n",
       "\n",
       "    .dataframe tbody tr th {\n",
       "        vertical-align: top;\n",
       "    }\n",
       "\n",
       "    .dataframe thead th {\n",
       "        text-align: right;\n",
       "    }\n",
       "</style>\n",
       "<table border=\"1\" class=\"dataframe\">\n",
       "  <thead>\n",
       "    <tr style=\"text-align: right;\">\n",
       "      <th></th>\n",
       "      <th>Activity Type</th>\n",
       "      <th>Average Distance</th>\n",
       "    </tr>\n",
       "  </thead>\n",
       "  <tbody>\n",
       "    <tr>\n",
       "      <th>0</th>\n",
       "      <td>AlpineSki</td>\n",
       "      <td>30430.657143</td>\n",
       "    </tr>\n",
       "    <tr>\n",
       "      <th>1</th>\n",
       "      <td>BackcountrySki</td>\n",
       "      <td>6390.875000</td>\n",
       "    </tr>\n",
       "    <tr>\n",
       "      <th>2</th>\n",
       "      <td>Crossfit</td>\n",
       "      <td>2952.600000</td>\n",
       "    </tr>\n",
       "    <tr>\n",
       "      <th>3</th>\n",
       "      <td>EBikeRide</td>\n",
       "      <td>7315.700000</td>\n",
       "    </tr>\n",
       "    <tr>\n",
       "      <th>4</th>\n",
       "      <td>Elliptical</td>\n",
       "      <td>4436.966667</td>\n",
       "    </tr>\n",
       "    <tr>\n",
       "      <th>5</th>\n",
       "      <td>Hike</td>\n",
       "      <td>6812.375676</td>\n",
       "    </tr>\n",
       "    <tr>\n",
       "      <th>6</th>\n",
       "      <td>IceSkate</td>\n",
       "      <td>11122.950000</td>\n",
       "    </tr>\n",
       "    <tr>\n",
       "      <th>7</th>\n",
       "      <td>Kayaking</td>\n",
       "      <td>5170.033333</td>\n",
       "    </tr>\n",
       "    <tr>\n",
       "      <th>8</th>\n",
       "      <td>NordicSki</td>\n",
       "      <td>15314.775000</td>\n",
       "    </tr>\n",
       "    <tr>\n",
       "      <th>9</th>\n",
       "      <td>Ride</td>\n",
       "      <td>33102.721121</td>\n",
       "    </tr>\n",
       "    <tr>\n",
       "      <th>10</th>\n",
       "      <td>RockClimbing</td>\n",
       "      <td>0.000000</td>\n",
       "    </tr>\n",
       "    <tr>\n",
       "      <th>11</th>\n",
       "      <td>Rowing</td>\n",
       "      <td>7558.400000</td>\n",
       "    </tr>\n",
       "    <tr>\n",
       "      <th>12</th>\n",
       "      <td>Run</td>\n",
       "      <td>7874.806131</td>\n",
       "    </tr>\n",
       "    <tr>\n",
       "      <th>13</th>\n",
       "      <td>Snowboard</td>\n",
       "      <td>20426.433333</td>\n",
       "    </tr>\n",
       "    <tr>\n",
       "      <th>14</th>\n",
       "      <td>Snowshoe</td>\n",
       "      <td>3369.600000</td>\n",
       "    </tr>\n",
       "    <tr>\n",
       "      <th>15</th>\n",
       "      <td>StandUpPaddling</td>\n",
       "      <td>6816.300000</td>\n",
       "    </tr>\n",
       "    <tr>\n",
       "      <th>16</th>\n",
       "      <td>Swim</td>\n",
       "      <td>2303.249438</td>\n",
       "    </tr>\n",
       "    <tr>\n",
       "      <th>17</th>\n",
       "      <td>VirtualRide</td>\n",
       "      <td>23320.523077</td>\n",
       "    </tr>\n",
       "    <tr>\n",
       "      <th>18</th>\n",
       "      <td>Walk</td>\n",
       "      <td>5024.981959</td>\n",
       "    </tr>\n",
       "    <tr>\n",
       "      <th>19</th>\n",
       "      <td>WeightTraining</td>\n",
       "      <td>73.364286</td>\n",
       "    </tr>\n",
       "    <tr>\n",
       "      <th>20</th>\n",
       "      <td>Workout</td>\n",
       "      <td>1869.342424</td>\n",
       "    </tr>\n",
       "    <tr>\n",
       "      <th>21</th>\n",
       "      <td>Yoga</td>\n",
       "      <td>21.111111</td>\n",
       "    </tr>\n",
       "  </tbody>\n",
       "</table>\n",
       "</div>"
      ],
      "text/plain": [
       "      Activity Type  Average Distance\n",
       "0         AlpineSki      30430.657143\n",
       "1    BackcountrySki       6390.875000\n",
       "2          Crossfit       2952.600000\n",
       "3         EBikeRide       7315.700000\n",
       "4        Elliptical       4436.966667\n",
       "5              Hike       6812.375676\n",
       "6          IceSkate      11122.950000\n",
       "7          Kayaking       5170.033333\n",
       "8         NordicSki      15314.775000\n",
       "9              Ride      33102.721121\n",
       "10     RockClimbing          0.000000\n",
       "11           Rowing       7558.400000\n",
       "12              Run       7874.806131\n",
       "13        Snowboard      20426.433333\n",
       "14         Snowshoe       3369.600000\n",
       "15  StandUpPaddling       6816.300000\n",
       "16             Swim       2303.249438\n",
       "17      VirtualRide      23320.523077\n",
       "18             Walk       5024.981959\n",
       "19   WeightTraining         73.364286\n",
       "20          Workout       1869.342424\n",
       "21             Yoga         21.111111"
      ]
     },
     "execution_count": 50,
     "metadata": {},
     "output_type": "execute_result"
    }
   ],
   "source": [
    "# Your codes here\n",
    "avg_dis_by_type = data.groupby(['type']).mean().distance\n",
    "pd.DataFrame({'Activity Type':avg_dis_by_type.index, 'Average Distance':avg_dis_by_type.values})"
   ]
  },
  {
   "cell_type": "markdown",
   "metadata": {},
   "source": [
    "**Answer : AlpineSki          30430.657143\n",
    "BackcountrySki      6390.875000\n",
    "Crossfit            2952.600000\n",
    "EBikeRide           7315.700000\n",
    "Elliptical          4436.966667\n",
    "Hike                6812.375676\n",
    "IceSkate           11122.950000\n",
    "Kayaking            5170.033333\n",
    "NordicSki          15314.775000\n",
    "Ride               33102.721121\n",
    "RockClimbing           0.000000\n",
    "Rowing              7558.400000\n",
    "Run                 7874.806131\n",
    "Snowboard          20426.433333\n",
    "Snowshoe            3369.600000\n",
    "StandUpPaddling     6816.300000\n",
    "Swim                2303.249438\n",
    "VirtualRide        23320.523077\n",
    "Walk                5024.981959\n",
    "WeightTraining        73.364286\n",
    "Workout             1869.342424\n",
    "Yoga                  21.111111**\n"
   ]
  },
  {
   "cell_type": "markdown",
   "metadata": {},
   "source": [
    "### 4. Basic Visualization"
   ]
  },
  {
   "cell_type": "markdown",
   "metadata": {},
   "source": [
    "**(a) How is the number of kudos received by male users different from female users? Create a visualization in support of your answer.**"
   ]
  },
  {
   "cell_type": "code",
   "execution_count": 98,
   "metadata": {},
   "outputs": [
    {
     "data": {
      "text/plain": [
       "<BarContainer object of 2 artists>"
      ]
     },
     "execution_count": 98,
     "metadata": {},
     "output_type": "execute_result"
    },
    {
     "data": {
      "image/png": "[encoded data removed]",
      "text/plain": [
       "<Figure size 432x288 with 1 Axes>"
      ]
     },
     "metadata": {
      "needs_background": "light"
     },
     "output_type": "display_data"
    }
   ],
   "source": [
    "# Your codes here\n",
    "y1 = data_male.kudos_count.sum()\n",
    "y2 = data_female.kudos_count.sum()\n",
    "yval = [y1,y2]\n",
    "xval = ['male', 'female']\n",
    "\n",
    "\n",
    "fig, ax = plt.subplots()    \n",
    "width = 0.75 # the width of the bars \n",
    "ax.text(xval[0],yval[0], str(y1), fontsize=15)\n",
    "ax.text(xval[1],yval[1], str(y2), fontsize=15)\n",
    "ax.bar(xval, yval, width, color=\"blue\")\n"
   ]
  },
  {
   "cell_type": "markdown",
   "metadata": {},
   "source": [
    "**(b) Finally, let's explore the best time of day to exercise. Create a visualization to show the diurnal patterns of exercise.**"
   ]
  },
  {
   "cell_type": "code",
   "execution_count": 42,
   "metadata": {},
   "outputs": [
    {
     "data": {
      "image/png": "[encoded data removed]",
      "text/plain": [
       "<Figure size 1296x576 with 1 Axes>"
      ]
     },
     "metadata": {
      "needs_background": "light"
     },
     "output_type": "display_data"
    }
   ],
   "source": [
    "# Your codes here\n",
    "c = pd.to_datetime(data.start_date_local).dt.hour\n",
    "plt.figure(figsize=(18,8))\n",
    "plt.xticks(np.arange(min(c), max(c)+1, 1.0))\n",
    "plt.hist(c, bins=range(0,25), histtype='bar', ec='black')\n",
    "plt.xlabel(\"Hours of the day\")\n",
    "plt.ylabel(\"Frequency\")\n",
    "plt.title(\"Histogram - Time of Day and Exercise\")\n",
    "plt.show()"
   ]
  },
  {
   "cell_type": "markdown",
   "metadata": {},
   "source": [
    "**Answer : From the histogram plot we see that the most popular time of the day to exercise is between 8 am to 9 am. Also, from the plot we see popular workout timings are morning hours (8 am to 10 am) and evening hours (5 pm to 7 pm)**"
   ]
  },
  {
   "cell_type": "markdown",
   "metadata": {},
   "source": [
    "### 5. Discussion\n",
    "\n",
    "Congratulations! You just completed all heavy coding and got a taste of exploratory data analysis! You should feel confident (at least for now) in working with data using Python! As we have done with the coding part, I want to ask you a couple of final questions:\n",
    "\n",
    "**Do you have any concerns with the quality of this data set? Whether and how does any data quality issue affect your analysis?**"
   ]
  },
  {
   "cell_type": "markdown",
   "metadata": {},
   "source": [
    "**Answer: This was a very good dataset. There were a few data points missing for some variables which effects calculations such as average and sum, when grouped by the specific variable**."
   ]
  },
  {
   "cell_type": "code",
   "execution_count": null,
   "metadata": {},
   "outputs": [],
   "source": []
  }
 ],
 "metadata": {
  "kernelspec": {
   "display_name": "Python 3",
   "language": "python",
   "name": "python3"
  },
  "language_info": {
   "codemirror_mode": {
    "name": "ipython",
    "version": 3
   },
   "file_extension": ".py",
   "mimetype": "text/x-python",
   "name": "python",
   "nbconvert_exporter": "python",
   "pygments_lexer": "ipython3",
   "version": "3.7.1"
  }
 },
 "nbformat": 4,
 "nbformat_minor": 2
}
