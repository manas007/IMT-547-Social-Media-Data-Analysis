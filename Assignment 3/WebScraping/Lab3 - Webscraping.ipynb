{
 "cells": [
  {
   "cell_type": "markdown",
   "metadata": {},
   "source": [
    "# Lab 3: Web Scraping\n",
    "\n",
    "## Instructor: Li Zeng (lizeng@uw.edu)\n",
    "## Date: 04/17/2019\n",
    "\n",
    "### Learning Objectives:\n",
    "By the end of the lab, you will be able to\n",
    "* retrieve information from websites of interest\n",
    "* use find() and find_all() to search for tags\n",
    "* extract targeted content \n",
    "* implement basic text cleaning using strip()"
   ]
  },
  {
   "cell_type": "code",
   "execution_count": 65,
   "metadata": {},
   "outputs": [],
   "source": [
    "# Import requests package to request webpage information\n",
    "import requests\n",
    "# Import BeautifulSoup to parse HTML\n",
    "from bs4 import BeautifulSoup\n",
    "import pandas as pd"
   ]
  },
  {
   "cell_type": "code",
   "execution_count": 66,
   "metadata": {},
   "outputs": [],
   "source": [
    "# Request webpage information\n",
    "r = requests.get('https://www.rottentomatoes.com/tv/sherlock')"
   ]
  },
  {
   "cell_type": "code",
   "execution_count": 67,
   "metadata": {},
   "outputs": [],
   "source": [
    "# Parse HTML document\n",
    "soup = BeautifulSoup(r.text, 'html.parser')"
   ]
  },
  {
   "cell_type": "code",
   "execution_count": 68,
   "metadata": {},
   "outputs": [],
   "source": [
    "# Search for movie synopsis\n",
    "movie_synopsis = soup.find(\"div\", {\"id\" : \"movieSynopsis\"})"
   ]
  },
  {
   "cell_type": "code",
   "execution_count": 69,
   "metadata": {},
   "outputs": [
    {
     "data": {
      "text/plain": [
       "<div class=\"movie_synopsis clamp clamp-6 clearfix\" id=\"movieSynopsis\">A modern adaptation of the crime novels of Arthur Conan Doyle.</div>"
      ]
     },
     "execution_count": 69,
     "metadata": {},
     "output_type": "execute_result"
    }
   ],
   "source": [
    "movie_synopsis"
   ]
  },
  {
   "cell_type": "code",
   "execution_count": 70,
   "metadata": {},
   "outputs": [
    {
     "data": {
      "text/plain": [
       "'A modern adaptation of the crime novels of Arthur Conan Doyle.'"
      ]
     },
     "execution_count": 70,
     "metadata": {},
     "output_type": "execute_result"
    }
   ],
   "source": [
    "# To get raw text of movie synopsis\n",
    "movie_synopsis.text"
   ]
  },
  {
   "cell_type": "code",
   "execution_count": 71,
   "metadata": {},
   "outputs": [
    {
     "name": "stdout",
     "output_type": "stream",
     "text": [
      "Calling get_text():\n",
      "A modern adaptation of the crime novels of Arthur Conan Doyle.\n",
      "------------------\n"
     ]
    }
   ],
   "source": [
    "# You can use strip() to get rid of extra whitespaces;\n",
    "# you can also pass strip parameter to BeautifulSoup get_text() function!\n",
    "# note that you might find out this cleaning is pretty rough\n",
    "# you will learn more on data cleaning next week\n",
    "print(\"Calling get_text():\")\n",
    "print(movie_synopsis.get_text(\"\", strip = True))\n",
    "print(\"------------------\")"
   ]
  },
  {
   "cell_type": "markdown",
   "metadata": {},
   "source": [
    "### Exercise:\n",
    "\n",
    "1. Scrape the Average Tomatometer of the Sherlock (https://www.rottentomatoes.com/tv/sherlock).\n",
    "\n",
    "2. Scrape the following Series Details on this page and format the data as the following table:\n",
    "\n",
    "| Column              | Value                                                   |\n",
    "|---------------------|---------------------------------------------------------|\n",
    "| TV Network          |                           PBS                           |\n",
    "| Premiere Date       | Oct 24, 2010                                            |\n",
    "| Genre               | Mystery                                                 |\n",
    "| Executive Producers | Mark Gatiss, Steven Moffat, Beryl Vertue, Rebecca Eaton |"
   ]
  },
  {
   "cell_type": "code",
   "execution_count": 73,
   "metadata": {},
   "outputs": [
    {
     "name": "stdout",
     "output_type": "stream",
     "text": [
      "78%\n"
     ]
    }
   ],
   "source": [
    "# Write your code here\n",
    "average_tomatometer = soup.find(\"span\", {\"class\" : \"meter-value\"})\n",
    "print(average_tomatometer.get_text(\"\", strip = True))"
   ]
  },
  {
   "cell_type": "markdown",
   "metadata": {},
   "source": [
    "**Answer: The Average tomatometer is 78%**"
   ]
  },
  {
   "cell_type": "code",
   "execution_count": 55,
   "metadata": {},
   "outputs": [
    {
     "name": "stdout",
     "output_type": "stream",
     "text": [
      "4\n",
      "4\n"
     ]
    }
   ],
   "source": [
    "Column = []\n",
    "Value = []\n",
    "series_detail = soup.find(\"section\", {\"id\" : \"detail_panel\"})\n",
    "relevantdata = series_detail.find_all(\"td\")\n",
    "for data in relevantdata:\n",
    "    cleandata = data.get_text(\"\", strip = True)\n",
    "    if \":\" in cleandata:\n",
    "        Column.append(cleandata)\n",
    "    else:\n",
    "        Value.append(cleandata)\n",
    "\n",
    "newColumn = list(map(lambda x: x.strip(':'), Column))\n",
    "\n",
    "print(len(newColumn))\n",
    "print(len(Value))"
   ]
  },
  {
   "cell_type": "code",
   "execution_count": 64,
   "metadata": {},
   "outputs": [
    {
     "data": {
      "text/html": [
       "<div>\n",
       "<style scoped>\n",
       "    .dataframe tbody tr th:only-of-type {\n",
       "        vertical-align: middle;\n",
       "    }\n",
       "\n",
       "    .dataframe tbody tr th {\n",
       "        vertical-align: top;\n",
       "    }\n",
       "\n",
       "    .dataframe thead th {\n",
       "        text-align: right;\n",
       "    }\n",
       "</style>\n",
       "<table border=\"1\" class=\"dataframe\">\n",
       "  <thead>\n",
       "    <tr style=\"text-align: right;\">\n",
       "      <th></th>\n",
       "      <th>Column</th>\n",
       "      <th>Value</th>\n",
       "    </tr>\n",
       "  </thead>\n",
       "  <tbody>\n",
       "    <tr>\n",
       "      <th>0</th>\n",
       "      <td>TV Network</td>\n",
       "      <td>PBS</td>\n",
       "    </tr>\n",
       "    <tr>\n",
       "      <th>1</th>\n",
       "      <td>Premiere Date</td>\n",
       "      <td>Oct 24, 2010</td>\n",
       "    </tr>\n",
       "    <tr>\n",
       "      <th>2</th>\n",
       "      <td>Genre</td>\n",
       "      <td>Mystery &amp; Suspense</td>\n",
       "    </tr>\n",
       "    <tr>\n",
       "      <th>3</th>\n",
       "      <td>Executive Producers</td>\n",
       "      <td>Mark Gatiss,Steven Moffat,Beryl Vertue,Rebecca...</td>\n",
       "    </tr>\n",
       "  </tbody>\n",
       "</table>\n",
       "</div>"
      ],
      "text/plain": [
       "                Column                                              Value\n",
       "0           TV Network                                                PBS\n",
       "1        Premiere Date                                       Oct 24, 2010\n",
       "2                Genre                                 Mystery & Suspense\n",
       "3  Executive Producers  Mark Gatiss,Steven Moffat,Beryl Vertue,Rebecca..."
      ]
     },
     "execution_count": 64,
     "metadata": {},
     "output_type": "execute_result"
    }
   ],
   "source": [
    "df = pd.DataFrame( {'Column' : newColumn , 'Value' : Value })\n",
    "df"
   ]
  },
  {
   "cell_type": "code",
   "execution_count": null,
   "metadata": {},
   "outputs": [],
   "source": []
  }
 ],
 "metadata": {
  "kernelspec": {
   "display_name": "Python 3",
   "language": "python",
   "name": "python3"
  },
  "language_info": {
   "codemirror_mode": {
    "name": "ipython",
    "version": 3
   },
   "file_extension": ".py",
   "mimetype": "text/x-python",
   "name": "python",
   "nbconvert_exporter": "python",
   "pygments_lexer": "ipython3",
   "version": "3.7.1"
  }
 },
 "nbformat": 4,
 "nbformat_minor": 1
}
